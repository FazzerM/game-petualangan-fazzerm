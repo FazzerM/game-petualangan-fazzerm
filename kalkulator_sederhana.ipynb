{
  "nbformat": 4,
  "nbformat_minor": 0,
  "metadata": {
    "colab": {
      "provenance": []
    },
    "kernelspec": {
      "name": "python3",
      "display_name": "Python 3"
    },
    "language_info": {
      "name": "python"
    }
  },
  "cells": [
    {
      "cell_type": "code",
      "source": [
        "# Kalkulator Sederhana dan Scientific\n",
        "import math\n",
        "def simple_calculator(num1, num2, operator):\n",
        "  if operator == '+':\n",
        "    return num1 + num2\n",
        "  elif operator == '-':\n",
        "    return num1 - num2\n",
        "  elif operator == '*':\n",
        "    return num1 * num2\n",
        "  elif operator == '**':\n",
        "    return num1 ** num2\n",
        "  elif operator == '%':\n",
        "    return num1 % num2\n",
        "  elif operator == '/':\n",
        "    if num2 != 0:\n",
        "      return num1 / num2\n",
        "    else:\n",
        "      return \"Error: Division by zero is not allowed.\"\n",
        "  else:\n",
        "    return \"Error: Invalid operator. Please use +, -, *, **, % or /.\"\n",
        "\n",
        "def scientific_calculator(num1, operator):\n",
        "  if operator == 'sin':\n",
        "    return math.sin(math.radians(num1))\n",
        "  elif operator == 'cos':\n",
        "    return math.cos(math.radians(num1))\n",
        "  elif operator == 'tan':\n",
        "    return math.tan(math.radians(num1))\n",
        "  elif operator == 'sqrt':\n",
        "    return math.sqrt(num1)\n",
        "  elif operator == 'log':\n",
        "    return math.log(num1)\n",
        "  else:\n",
        "    return \"Error: Invalid operator. Please use sin, cos, tan, sqrt & log.\"\n",
        "\n",
        "# Example usage:\n",
        "while True:\n",
        "  try:\n",
        "    print(\"what do you want to do?\")\n",
        "    print(\"1. Simple Calculator\")\n",
        "    print(\"2. Scientific Calculator\")\n",
        "    choice = int(input(\"Enter your choice (1 or 2): \"))\n",
        "    if choice == 1:\n",
        "     num1 = float(input(\"Enter the first number: \"))\n",
        "     num2 = float(input(\"Enter the second number: \"))\n",
        "     operator = input(\"Enter the operator (+, -, *, /, **, %): \")\n",
        "     result = simple_calculator(num1, num2, operator)\n",
        "     print(\"Result:\", result)\n",
        "    elif choice == 2: # Use elif for clarity\n",
        "     num1 = float(input(\"Enter the number: \"))\n",
        "     operator = input(\"Enter the operator (sin, cos, tan, sqrt, log): \")\n",
        "     result = scientific_calculator(num1, operator) # Pass both arguments\n",
        "     print(\"Result:\", result)\n",
        "    else:\n",
        "        print(\"Error: Invalid choice. Please enter 1 or 2.\") # Handle invalid choice\n",
        "\n",
        "  except ValueError:\n",
        "    print(\"Error: Invalid input. Please enter valid numbers.\")\n",
        "\n",
        "  lanjut = input(\"Apakah Anda ingin melanjutkan? (y/n): \")\n",
        "  if lanjut.lower() != 'y':\n",
        "    break"
      ],
      "metadata": {
        "colab": {
          "base_uri": "https://localhost:8080/"
        },
        "id": "lAFuJLxI2i_w",
        "outputId": "fcb042dc-f6ba-4a19-8cbd-5a2663024e7b"
      },
      "execution_count": 23,
      "outputs": [
        {
          "name": "stdout",
          "output_type": "stream",
          "text": [
            "what do you want to do?\n",
            "1. Simple Calculator\n",
            "2. Scientific Calculator\n",
            "Enter your choice (1 or 2): 1\n",
            "Enter the first number: 4\n",
            "Enter the second number: 4\n",
            "Enter the operator (+, -, *, /, **, %): **\n",
            "Result: 256.0\n",
            "Apakah Anda ingin melanjutkan? (y/n): y\n",
            "what do you want to do?\n",
            "1. Simple Calculator\n",
            "2. Scientific Calculator\n",
            "Enter your choice (1 or 2): 1\n",
            "Enter the first number: 3\n",
            "Enter the second number: 2\n",
            "Enter the operator (+, -, *, /, **, %): %\n",
            "Result: 1.0\n",
            "Apakah Anda ingin melanjutkan? (y/n): n\n"
          ]
        }
      ]
    }
  ]
}